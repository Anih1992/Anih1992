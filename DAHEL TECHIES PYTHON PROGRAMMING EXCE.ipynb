{
 "cells": [
  {
   "cell_type": "code",
   "execution_count": null,
   "id": "e47f484e-23af-412a-8c0c-102d66fcd1b1",
   "metadata": {},
   "outputs": [],
   "source": [
    "ANIH ONUABUCHI GENEVIEVE\n",
    "DAHEL TECHIES  STUDENT APRIL/MAY \n",
    "PROJECT ASSESSMENTS\n",
    "INTRUCTIONS:-\n",
    "#kindly use comment to explain every line of you code when, neccesary\n",
    "#make a video explanantion of your excercises and post it online on your profile \n",
    "#ensure you open Github profile where you can upload you assessments/projects. \n",
    "#submit you code as pd form link to any respository we can confirm\n",
    "#be sure to confirm you cohort name first before submitting in the link above."
   ]
  },
  {
   "cell_type": "code",
   "execution_count": 41,
   "id": "daeaeeba-8f7e-4122-b82b-8ee709c7ef27",
   "metadata": {},
   "outputs": [],
   "source": [
    "#Excercise 1: Basic list options \n",
    "#create a list of your fovourite fruits and perform the following operation "
   ]
  },
  {
   "cell_type": "code",
   "execution_count": 42,
   "id": "645888ec-dea8-43ca-a9aa-01128f7208f9",
   "metadata": {},
   "outputs": [
    {
     "name": "stdout",
     "output_type": "stream",
     "text": [
      "['apple', 'guava', 'cashew', 'mangos', 'kiwi']\n"
     ]
    }
   ],
   "source": [
    "#1. Add a new fruits to the list \n",
    "fruit = ['apple', 'guava', 'cashew', 'mangos']\n",
    "fruit.append('kiwi')\n",
    "print(fruit)         "
   ]
  },
  {
   "cell_type": "code",
   "execution_count": 43,
   "id": "7a97bea3-431b-4a99-854b-9442b18b4076",
   "metadata": {},
   "outputs": [
    {
     "name": "stdout",
     "output_type": "stream",
     "text": [
      "['apple', 'guava', 'cashew', 'kiwi']\n"
     ]
    }
   ],
   "source": [
    "#Remove a fruits from the list\n",
    "fruit2 =  ['apple', 'guava', 'cashew', 'mangos']\n",
    "fruit.remove('mangos')\n",
    "print(fruit)"
   ]
  },
  {
   "cell_type": "code",
   "execution_count": null,
   "id": "63ec97c3-938b-45c3-a194-eb78d7bc2720",
   "metadata": {},
   "outputs": [],
   "source": [
    "#find the index[] of specfic fruit\n",
    "fruit =  ['apple', 'guava', 'cashew', 'mangos']\n",
    "print(fruit[3])"
   ]
  },
  {
   "cell_type": "code",
   "execution_count": 44,
   "id": "dfdf9e2f-1bb8-46d7-bc3c-061a1e137a0d",
   "metadata": {},
   "outputs": [
    {
     "name": "stdout",
     "output_type": "stream",
     "text": [
      "['apple', 'cashew', 'guava', 'mangos']\n"
     ]
    }
   ],
   "source": [
    "#sort list in alphabetical order\n",
    "fruit =  ['apple', 'guava', 'cashew', 'mangos']\n",
    "fruit.sort()\n",
    "print(fruit)"
   ]
  },
  {
   "cell_type": "code",
   "execution_count": null,
   "id": "5dd65351-4b3e-474e-ba32-9a34bc4f1bb0",
   "metadata": {},
   "outputs": [],
   "source": [
    "#Excercis2 \n",
    "#create a list of numbers from 1-10 and and a list of comprehension to generate a new list containing the squares of these numbers \n",
    "#answers \n",
    "numbers = [1, 2, 3, 4, 5, 6, 7, 8, 9,10]\n",
    "square_numbers = (1, 2,3, 4, 5, 6, 7, 8, 9, 10)\n",
    "print(square_numbers)"
   ]
  },
  {
   "cell_type": "code",
   "execution_count": null,
   "id": "52bf191e-524e-4136-9026-8c6c32838ea6",
   "metadata": {},
   "outputs": [],
   "source": [
    "#create a nested list to represent the following matrix and write the code\n",
    "numbers = [[1, 2, 3], [4, 5, 6], [7, 8, 9]]\n",
    "print(numbers[1])\n",
    "print(numbers[2])"
   ]
  },
  {
   "cell_type": "code",
   "execution_count": null,
   "id": "637c564a-c0a3-4997-96ab-051d309908b4",
   "metadata": {},
   "outputs": [],
   "source": [
    "#EXCERCISE 4 LSIT OF DICTIONARIES\n",
    "#create a list of dictionaries where each dictionary represents a students with the key 'name' and 'score' write code:\n",
    "#. add a new student to the list\n",
    "students ={'deby', 90, 'genevieve', 100, 'kosi', 70}\n",
    "print(students)"
   ]
  },
  {
   "cell_type": "code",
   "execution_count": null,
   "id": "16ad5271-e06c-4c1b-b130-df65996c492b",
   "metadata": {},
   "outputs": [],
   "source": [
    "#a add new student to the list\n",
    "# i use .add because dictionary can not be append\n",
    "students.add ('chi')\n",
    "print(students)"
   ]
  },
  {
   "cell_type": "code",
   "execution_count": null,
   "id": "1c23ee57-4171-4869-a56e-e1753f773fd8",
   "metadata": {},
   "outputs": [],
   "source": [
    "#caluculate the average score of the students\n",
    "student1 = {100}\n",
    "student2 = {70}\n",
    "student3 = {90}\n",
    "student4 = {55}\n",
    "print(student1)\n",
    "print(student2)\n",
    "print(student3)\n",
    "print(student4)"
   ]
  },
  {
   "cell_type": "code",
   "execution_count": null,
   "id": "29719d21-e7e1-4c71-b90f-a6ace709177e",
   "metadata": {},
   "outputs": [],
   "source": [
    "student1 = 100\n",
    "student2 = 70\n",
    "student3 = 90\n",
    "student4 = 55\n",
    "print(student1+student2+student3+student4)"
   ]
  },
  {
   "cell_type": "code",
   "execution_count": null,
   "id": "0bebd1a4-f589-46c4-b184-472f7a7b9ec7",
   "metadata": {},
   "outputs": [],
   "source": [
    "#average\n",
    "315/100"
   ]
  },
  {
   "cell_type": "code",
   "execution_count": null,
   "id": "f7ea35a1-a1e8-496f-8940-ba845dba668a",
   "metadata": {},
   "outputs": [],
   "source": [
    "#EXCERCISE5 \n",
    "#list filtering \n",
    "#create a list of numbers from 1 to 2o. use list comprehension to filter out the numbers that are not divisible by 3\n",
    "#here is the list of numbers\n",
    "#using lambda function to check if a number is even\n",
    "numbers = [1, 2, 3, 4, 5, 6, 7, 8, 9, 10, 11, 12, 13, 14, 15, 16, 17, 18, 19, 20]\n",
    "even_numbers = filters[lambda x: x % 2 == 0, numbers]\n",
    "print(list(even_numbers))\n",
    "2,4,6,8,10,12,14,16,18,20"
   ]
  },
  {
   "cell_type": "code",
   "execution_count": null,
   "id": "ba4c2f52-9571-426c-86a2-e5904d1d7996",
   "metadata": {},
   "outputs": [],
   "source": [
    "#EXCERCISE6 \n",
    "#finding common element \n",
    "#give two list of integers, find the comomon elements between them\n",
    "#i use list and set\n",
    "set1 = [1, 2, 3, 4, 5]\n",
    "set2 = [5, 6, 7, 8, 9]\n",
    "print(set1+set2)\n",
    "print(set1)\n",
    "print(set2)   \n"
   ]
  },
  {
   "cell_type": "code",
   "execution_count": null,
   "id": "ea9be046-635e-49c4-88d2-055476663e4d",
   "metadata": {},
   "outputs": [],
   "source": [
    "Set1 = {1,2,3,4,5}\n",
    "Set2 ={5,10,6,7,8}\n",
    "result = Set1.union(Set2)\n",
    "print(type(result))\n",
    "print(result)"
   ]
  },
  {
   "cell_type": "code",
   "execution_count": null,
   "id": "e9c08550-e427-4542-a15f-0df6200c3cee",
   "metadata": {},
   "outputs": [],
   "source": [
    "Set1.intersection(Set2)"
   ]
  },
  {
   "cell_type": "code",
   "execution_count": null,
   "id": "a1680254-2e85-4a65-aafb-17b213657d3e",
   "metadata": {},
   "outputs": [],
   "source": [
    "#EXCERCISE7\n",
    "#list reversal\n",
    "#create a  list of words and write to reverse the list \n",
    "#first name on the list turn to last\n",
    "friends = ['chioma', 'favour', 'jessy', 'geb', 'arianna']\n",
    "friends.reverse()\n",
    "print(friends)\n"
   ]
  },
  {
   "cell_type": "code",
   "execution_count": null,
   "id": "903b1284-d266-44b4-b86e-5d5c2a8bd89a",
   "metadata": {},
   "outputs": [],
   "source": [
    "#EXCERCISE8\n",
    "#removing duplictates\n",
    "#given a list of integers, write code to remove duplicates element and return the list unique elements \n",
    "data = [50, 45, 60, 60, 30, 30, 70, 20]\n",
    "def remove_duplicates(duplist):\n",
    "    noduplist = []\n",
    "    \n",
    "    for element in duplist:\n",
    "        if element not in noduplist:\n",
    "            noduplist.append(element)\n",
    "\n",
    "    return noduplist\n",
    "\n",
    "print(remove_duplicates(data))"
   ]
  },
  {
   "cell_type": "code",
   "execution_count": null,
   "id": "1dae2b2f-db8e-4696-9d2a-d84389f5907d",
   "metadata": {},
   "outputs": [],
   "source": [
    "#EXCERCISE9 COMBING A LIST\n",
    "#given two lists of the same length, create a new list where each elements of the sum of the elements are in corresponding position in the original lists\n",
    "pos = ['monipoint', 'opay', 'palmpay', 'paga']\n",
    "network = ['mtn', 'glo', 'airtel', 'etisalat']\n",
    "print('monipoint', 'opay', 'palmpay', 'paga'  ' ' 'm tn', 'glo', 'airtel', 'etisalat')\n"
   ]
  },
  {
   "cell_type": "code",
   "execution_count": null,
   "id": "beb9c905-a55f-437a-855d-7562bf537900",
   "metadata": {},
   "outputs": [],
   "source": [
    "#EXCERCISE10 rotating list\n",
    "#write function to rotate a list by a given numbers of a postion to the left\n",
    "#numpy.roll\n",
    "import numpy as np\n",
    "#no.flip(x,axis*2)\n",
    "arrays= ([[9, 10, 11, 12],\n",
    "        [5, 6, 7, 8],\n",
    "        [1, 2, 3, 4]])\n",
    "print(arrays)"
   ]
  },
  {
   "cell_type": "code",
   "execution_count": null,
   "id": "8fed467a-4126-46f4-bb31-1e440cce87bd",
   "metadata": {},
   "outputs": [],
   "source": [
    "#SELF GENERATED QUESTION AND ANSWER ON INPUT\n",
    "#MAD LIB GAMES FORMULATED \n",
    "colours = input(\"enter your best colour: \")\n",
    "favourite_drink = input(\"enter your best drinks: \")\n",
    "food_choice = input(\"enter your favourite food: \")\n",
    "print(input)"
   ]
  },
  {
   "cell_type": "code",
   "execution_count": 45,
   "id": "18f74855-3838-4745-9628-b66a66fc66c9",
   "metadata": {},
   "outputs": [
    {
     "name": "stdout",
     "output_type": "stream",
     "text": [
      "hello welcome to aluko cleaning service\n"
     ]
    }
   ],
   "source": [
    "#ANOTHER SELF GENERATED QUESTION AND ANSWER ON INPUT\n",
    "\n",
    "print(\"hello\" + \" \" + (\"welcome to aluko cleaning service\"))  "
   ]
  },
  {
   "cell_type": "code",
   "execution_count": 46,
   "id": "a1f20a52-1a9a-4e2d-92ef-9df2032acc03",
   "metadata": {},
   "outputs": [
    {
     "name": "stdin",
     "output_type": "stream",
     "text": [
      "what is you name? ANI ONUABUCHI GENEVIEVE\n"
     ]
    },
    {
     "name": "stdout",
     "output_type": "stream",
     "text": [
      "welcome to facebook ANI ONUABUCHI GENEVIEVE\n"
     ]
    }
   ],
   "source": [
    "print(\"welcome to facebook\" + \" \" +input(\"what is you name?\"))"
   ]
  },
  {
   "cell_type": "code",
   "execution_count": 47,
   "id": "213ddc17-5812-44ff-baba-ded87c71daf1",
   "metadata": {},
   "outputs": [
    {
     "name": "stdin",
     "output_type": "stream",
     "text": [
      "what is you name? ANIH ONUABUCHI GENEVIEVE\n"
     ]
    },
    {
     "name": "stdout",
     "output_type": "stream",
     "text": [
      "welcome to Dubia ANIH ONUABUCHI GENEVIEVE\n"
     ]
    }
   ],
   "source": [
    "print(\"welcome to Dubia\" + \" \" +input(\"what is you name?\"))"
   ]
  },
  {
   "cell_type": "code",
   "execution_count": null,
   "id": "7a715039-ad8a-4710-8878-5590d8899a5d",
   "metadata": {},
   "outputs": [],
   "source": []
  }
 ],
 "metadata": {
  "kernelspec": {
   "display_name": "Python 3 (ipykernel)",
   "language": "python",
   "name": "python3"
  },
  "language_info": {
   "codemirror_mode": {
    "name": "ipython",
    "version": 3
   },
   "file_extension": ".py",
   "mimetype": "text/x-python",
   "name": "python",
   "nbconvert_exporter": "python",
   "pygments_lexer": "ipython3",
   "version": "3.11.7"
  }
 },
 "nbformat": 4,
 "nbformat_minor": 5
}
